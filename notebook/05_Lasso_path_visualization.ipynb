{
 "cells": [
  {
   "cell_type": "markdown",
   "id": "2da251bc",
   "metadata": {},
   "source": [
    "## Lasso path visualization"
   ]
  },
  {
   "cell_type": "markdown",
   "id": "144f610c",
   "metadata": {},
   "source": [
    "### Import package"
   ]
  },
  {
   "cell_type": "code",
   "execution_count": 1,
   "id": "4d558950",
   "metadata": {},
   "outputs": [],
   "source": [
    "import numpy as np\n",
    "import pandas as pd\n",
    "import matplotlib.pyplot as plt\n",
    "import seaborn as sns\n",
    "from matplotlib.colors import ListedColormap\n",
    "from core.core import *"
   ]
  },
  {
   "cell_type": "markdown",
   "id": "5d0a5453",
   "metadata": {},
   "source": [
    "### Load dataset"
   ]
  },
  {
   "cell_type": "code",
   "execution_count": 2,
   "id": "693224dc",
   "metadata": {},
   "outputs": [
    {
     "name": "stdout",
     "output_type": "stream",
     "text": [
      "   Palbociclib  Panobinostat  Raltitrexed  Methotrexate  Vemurafenib  \\\n",
      "0          0.0           1.0          1.0           0.0          1.0   \n",
      "1          0.0           0.0          0.0           0.0          1.0   \n",
      "2          0.0           0.0          0.0           0.0          0.0   \n",
      "3          1.0           0.0          0.0           1.0          0.0   \n",
      "4          1.0           1.0          0.0           0.0          0.0   \n",
      "5          0.0           0.0          0.0           1.0          1.0   \n",
      "6          1.0           0.0          1.0           0.0          0.0   \n",
      "7          0.0           0.0          1.0           0.0          0.0   \n",
      "8          0.0           1.0          0.0           1.0          0.0   \n",
      "\n",
      "   Fimepinostat  Olaparib  Bafetinib  SCIO-469  OTS964  SL-327  Abemaciclib  \\\n",
      "0           0.0       0.0        0.0       1.0     0.0     0.0          0.0   \n",
      "1           1.0       0.0        1.0       1.0     0.0     1.0          0.0   \n",
      "2           0.0       1.0        0.0       1.0     0.0     0.0          0.0   \n",
      "3           1.0       0.0        0.0       0.0     0.0     0.0          1.0   \n",
      "4           0.0       1.0        1.0       0.0     1.0     0.0          0.0   \n",
      "5           0.0       0.0        1.0       0.0     0.0     0.0          0.0   \n",
      "6           0.0       0.0        0.0       0.0     1.0     1.0          0.0   \n",
      "7           1.0       0.0        0.0       0.0     1.0     0.0          1.0   \n",
      "8           0.0       1.0        0.0       0.0     0.0     1.0          1.0   \n",
      "\n",
      "   CCT137690  Belumosudil  Staurosporine  \n",
      "0        0.0          1.0            0.0  \n",
      "1        0.0          0.0            0.0  \n",
      "2        1.0          1.0            1.0  \n",
      "3        0.0          1.0            0.0  \n",
      "4        0.0          0.0            0.0  \n",
      "5        1.0          0.0            1.0  \n",
      "6        1.0          0.0            0.0  \n",
      "7        0.0          0.0            1.0  \n",
      "8        0.0          0.0            0.0  \n"
     ]
    }
   ],
   "source": [
    "pool_matrix = pd.read_excel('data/sensing_matrix_15drugs.xlsx')\n",
    "pool_matrix = pool_matrix.fillna(0)\n",
    "\n",
    "input_path = 'data/preprocessed/PL_K562_F.csv'\n",
    "data = pd.read_csv(input_path)\n",
    "\n",
    "print (pool_matrix)"
   ]
  },
  {
   "cell_type": "markdown",
   "id": "6366ce5e",
   "metadata": {},
   "source": [
    "### Select protein and visualize Lasso path "
   ]
  },
  {
   "cell_type": "markdown",
   "id": "923a039b",
   "metadata": {},
   "source": [
    "#### DHFR"
   ]
  },
  {
   "cell_type": "code",
   "execution_count": 3,
   "id": "2d87cced",
   "metadata": {},
   "outputs": [
    {
     "name": "stdout",
     "output_type": "stream",
     "text": [
      "This gene is DHFR\n"
     ]
    }
   ],
   "source": [
    "i = 1383\n",
    "g = data.loc[i, 'Gene Symbol']\n",
    "print('This gene is {}'.format(g))"
   ]
  },
  {
   "cell_type": "code",
   "execution_count": 4,
   "id": "d633a095",
   "metadata": {},
   "outputs": [
    {
     "data": {
      "image/png": "[encoded data removed]",
      "text/plain": [
       "<Figure size 432x288 with 1 Axes>"
      ]
     },
     "metadata": {
      "needs_background": "light"
     },
     "output_type": "display_data"
    }
   ],
   "source": [
    "from sklearn import linear_model\n",
    "\n",
    "cols = ['Abundances_Pool_{}'.format(i) for i in range(len(pool_matrix))]\n",
    "X = np.nan_to_num(pool_matrix.values).astype(float)\n",
    "y = data.loc[i, cols].values.astype(float)\n",
    "y1 = np.log2(y / np.min(y))\n",
    "_, _, coefs = linear_model.lars_path(X, y1, positive=True, method=\"lasso\")\n",
    "\n",
    "xx = np.sum(np.abs(coefs.T), axis=1)\n",
    "xx /= xx[-1]\n",
    "\n",
    "# plt.figure(figsize = (4,6), dpi = 250)\n",
    "for j in range(coefs.shape[0]):\n",
    "    if j == 3:\n",
    "        plt.plot(xx, coefs[j,:], color='r', label='MTX')\n",
    "    else:\n",
    "        plt.plot(xx, coefs[j,:], color='grey')\n",
    "                \n",
    "plt.legend(fontsize = 20, loc='upper left')\n",
    "plt.ylim(0, 2.5)\n",
    "ymin, ymax = plt.ylim()\n",
    "plt.xticks(fontsize = 20)\n",
    "plt.yticks(fontsize = 20)\n",
    "plt.show()"
   ]
  },
  {
   "cell_type": "markdown",
   "id": "5b15c1ef",
   "metadata": {},
   "source": [
    "#### HDAC1"
   ]
  },
  {
   "cell_type": "code",
   "execution_count": 5,
   "id": "266a981b",
   "metadata": {},
   "outputs": [
    {
     "name": "stdout",
     "output_type": "stream",
     "text": [
      "This gene is HDAC1\n"
     ]
    }
   ],
   "source": [
    "i = 777\n",
    "g = data.loc[i, 'Gene Symbol']\n",
    "print('This gene is {}'.format(g))"
   ]
  },
  {
   "cell_type": "code",
   "execution_count": 6,
   "id": "a470bc4c",
   "metadata": {},
   "outputs": [
    {
     "data": {
      "image/png": "[encoded data removed]",
      "text/plain": [
       "<Figure size 432x288 with 1 Axes>"
      ]
     },
     "metadata": {
      "needs_background": "light"
     },
     "output_type": "display_data"
    }
   ],
   "source": [
    "cols = ['Abundances_Pool_{}'.format(i) for i in range(len(pool_matrix))]\n",
    "X = np.nan_to_num(pool_matrix.values).astype(float)\n",
    "y = data.loc[i, cols].values.astype(float)\n",
    "y1 = np.log2(y / np.min(y))\n",
    "_, _, coefs = linear_model.lars_path(X, y1, positive=True, method=\"lasso\")\n",
    "\n",
    "xx = np.sum(np.abs(coefs.T), axis=1)\n",
    "xx /= xx[-1]\n",
    "\n",
    "# plt.figure(figsize = (4,6), dpi = 250)\n",
    "for j in range(coefs.shape[0]):\n",
    "    if j == 1:\n",
    "        plt.plot(xx, coefs[j,:], color='r', label='Panob')\n",
    "    elif j == 5:\n",
    "        plt.plot(xx, coefs[j,:], color='b', label='Fimep')\n",
    "    else:\n",
    "        plt.plot(xx, coefs[j,:], color='grey')\n",
    "                \n",
    "plt.legend(fontsize = 20, loc='upper left')\n",
    "plt.ylim(0, 2.5)\n",
    "ymin, ymax = plt.ylim()\n",
    "plt.xticks(fontsize = 20)\n",
    "plt.yticks(fontsize = 20)\n",
    "plt.show()"
   ]
  },
  {
   "cell_type": "markdown",
   "id": "23f8ae22",
   "metadata": {},
   "source": [
    "#### RNF7"
   ]
  },
  {
   "cell_type": "code",
   "execution_count": 7,
   "id": "8eb80936",
   "metadata": {},
   "outputs": [
    {
     "name": "stdout",
     "output_type": "stream",
     "text": [
      "This gene is RNF7\n"
     ]
    }
   ],
   "source": [
    "i = 3639\n",
    "g = data.loc[i, 'Gene Symbol']\n",
    "print('This gene is {}'.format(g))"
   ]
  },
  {
   "cell_type": "code",
   "execution_count": 8,
   "id": "8d4f1ba3",
   "metadata": {},
   "outputs": [
    {
     "data": {
      "image/png": "[encoded data removed]",
      "text/plain": [
       "<Figure size 432x288 with 1 Axes>"
      ]
     },
     "metadata": {
      "needs_background": "light"
     },
     "output_type": "display_data"
    }
   ],
   "source": [
    "cols = ['Abundances_Pool_{}'.format(i) for i in range(len(pool_matrix))]\n",
    "X = np.nan_to_num(pool_matrix.values).astype(float)\n",
    "y = data.loc[i, cols].values.astype(float)\n",
    "y1 = np.log2(y / np.min(y))\n",
    "_, _, coefs = linear_model.lars_path(X, y1, positive=True, method=\"lasso\")\n",
    "\n",
    "xx = np.sum(np.abs(coefs.T), axis=1)\n",
    "xx /= xx[-1]\n",
    "\n",
    "# plt.figure(figsize = (4,6), dpi = 250)\n",
    "for j in range(coefs.shape[0]):\n",
    "    plt.plot(xx, coefs[j,:], color='grey')\n",
    "                \n",
    "# plt.legend(fontsize = 20, loc='upper left')\n",
    "plt.ylim(0, 2.5)\n",
    "ymin, ymax = plt.ylim()\n",
    "plt.xticks(fontsize = 20)\n",
    "plt.yticks(fontsize = 20)\n",
    "plt.show()"
   ]
  }
 ],
 "metadata": {
  "kernelspec": {
   "display_name": "Python 3 (ipykernel)",
   "language": "python",
   "name": "python3"
  },
  "language_info": {
   "codemirror_mode": {
    "name": "ipython",
    "version": 3
   },
   "file_extension": ".py",
   "mimetype": "text/x-python",
   "name": "python",
   "nbconvert_exporter": "python",
   "pygments_lexer": "ipython3",
   "version": "3.9.7"
  }
 },
 "nbformat": 4,
 "nbformat_minor": 5
}
