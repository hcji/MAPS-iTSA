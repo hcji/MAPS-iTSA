{
 "cells": [
  {
   "cell_type": "markdown",
   "id": "eeab2f9b",
   "metadata": {},
   "source": [
    "## Statistical analysis with LASSO algorithm"
   ]
  },
  {
   "cell_type": "markdown",
   "id": "32d77f12",
   "metadata": {},
   "source": [
    "### Import package"
   ]
  },
  {
   "cell_type": "code",
   "execution_count": 1,
   "id": "c1eca57a",
   "metadata": {},
   "outputs": [],
   "source": [
    "import os\n",
    "import numpy as np\n",
    "import pandas as pd\n",
    "import matplotlib.pyplot as plt\n",
    "import seaborn as sns\n",
    "from matplotlib.colors import ListedColormap\n",
    "from core.core import *"
   ]
  },
  {
   "cell_type": "markdown",
   "id": "5e2ab3cb",
   "metadata": {},
   "source": [
    "### Load sensing matrix"
   ]
  },
  {
   "cell_type": "code",
   "execution_count": 2,
   "id": "f38fb543",
   "metadata": {},
   "outputs": [],
   "source": [
    "pool_matrix = pd.read_excel('data/sensing_matrix_15drugs.xlsx')\n",
    "pool_matrix = pool_matrix.fillna(0)"
   ]
  },
  {
   "cell_type": "code",
   "execution_count": 3,
   "id": "343f0213",
   "metadata": {},
   "outputs": [],
   "source": [
    "# Note:\n",
    "# Since Staurosporine is in our drug list, we need to remove the staurosporine pools \n",
    "# from the negatives when processing other kinase inhibitor. For most applications,\n",
    "# Staurosporine will not be included, so this step can be skipped.\n",
    "\n",
    "drug_names = ['Palbociclib', 'Panobinostat', 'Raltitrexed', 'Methotrexate',\n",
    "               'Vemurafenib', 'Fimepinostat', 'Olaparib', 'Bafetinib', 'SCIO-469',\n",
    "               'OTS964', 'SL-327', 'Abemaciclib', 'CCT137690', 'Belumosudil',\n",
    "               'Staurosporine']\n",
    "kin_inhibitor = [True, False, False, False, True, False, False, True, True, True, \n",
    "                 True, True, True, True, False]\n",
    "\n",
    "# Here klist is the valid pools when processing the specific drug.\n",
    "klist = []\n",
    "for i in range(len(kin_inhibitor)):\n",
    "    if not kin_inhibitor[i]:\n",
    "        k = np.arange(len(pool_matrix))\n",
    "    else:\n",
    "        k = np.where(np.logical_or(pool_matrix.iloc[:,-1] == 0, pool_matrix.iloc[:,i] == 1))[0]\n",
    "    klist.append(k)"
   ]
  },
  {
   "cell_type": "markdown",
   "id": "576014b2",
   "metadata": {},
   "source": [
    "### Run the method"
   ]
  },
  {
   "cell_type": "code",
   "execution_count": 4,
   "id": "b2de7334",
   "metadata": {},
   "outputs": [
    {
     "name": "stdout",
     "output_type": "stream",
     "text": [
      "['PL_293T_F.csv', 'PL_HCT116_F.csv', 'PL_HepG2_F.csv', 'PL_K562_F.csv', 'PL_MCF7_F.csv']\n"
     ]
    }
   ],
   "source": [
    "# data path\n",
    "paths = os.listdir('data/preprocessed')\n",
    "print (paths)"
   ]
  },
  {
   "cell_type": "code",
   "execution_count": 5,
   "id": "0c5d0fc8",
   "metadata": {},
   "outputs": [
    {
     "name": "stdout",
     "output_type": "stream",
     "text": [
      "processing PL_293T_F.csv\n"
     ]
    },
    {
     "name": "stderr",
     "output_type": "stream",
     "text": [
      "100%|█████████████████████████████████████████████████████████████████████████████| 4181/4181 [00:38<00:00, 107.51it/s]\n"
     ]
    },
    {
     "name": "stdout",
     "output_type": "stream",
     "text": [
      "processing PL_HCT116_F.csv\n"
     ]
    },
    {
     "name": "stderr",
     "output_type": "stream",
     "text": [
      "100%|█████████████████████████████████████████████████████████████████████████████| 3706/3706 [00:35<00:00, 105.29it/s]\n"
     ]
    },
    {
     "name": "stdout",
     "output_type": "stream",
     "text": [
      "processing PL_HepG2_F.csv\n"
     ]
    },
    {
     "name": "stderr",
     "output_type": "stream",
     "text": [
      "100%|█████████████████████████████████████████████████████████████████████████████| 4056/4056 [00:37<00:00, 108.60it/s]\n"
     ]
    },
    {
     "name": "stdout",
     "output_type": "stream",
     "text": [
      "processing PL_K562_F.csv\n"
     ]
    },
    {
     "name": "stderr",
     "output_type": "stream",
     "text": [
      "100%|█████████████████████████████████████████████████████████████████████████████| 3833/3833 [00:35<00:00, 108.65it/s]\n"
     ]
    },
    {
     "name": "stdout",
     "output_type": "stream",
     "text": [
      "processing PL_MCF7_F.csv\n"
     ]
    },
    {
     "name": "stderr",
     "output_type": "stream",
     "text": [
      "100%|█████████████████████████████████████████████████████████████████████████████| 3997/3997 [00:37<00:00, 106.95it/s]\n"
     ]
    }
   ],
   "source": [
    "for p in paths:\n",
    "    print('processing {}'.format(p))\n",
    "    input_path = 'data/preprocessed/{}'.format(p)\n",
    "    protein_table = pd.read_csv(input_path)\n",
    "    scores, fold_changes = post_analysis(protein_table, pool_matrix, klist, drug_num = 3)\n",
    "    output_path = input_path.replace('data/preprocessed', 'results')\n",
    "    scores.to_csv(output_path.replace('.csv', '_scores.csv'))\n",
    "    fold_changes.to_csv(output_path.replace('.csv', '_fold_changes.csv'))"
   ]
  }
 ],
 "metadata": {
  "kernelspec": {
   "display_name": "Python 3 (ipykernel)",
   "language": "python",
   "name": "python3"
  },
  "language_info": {
   "codemirror_mode": {
    "name": "ipython",
    "version": 3
   },
   "file_extension": ".py",
   "mimetype": "text/x-python",
   "name": "python",
   "nbconvert_exporter": "python",
   "pygments_lexer": "ipython3",
   "version": "3.9.7"
  }
 },
 "nbformat": 4,
 "nbformat_minor": 5
}
