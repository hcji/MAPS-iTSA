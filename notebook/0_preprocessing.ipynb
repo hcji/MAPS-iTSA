{
 "cells": [
  {
   "cell_type": "markdown",
   "id": "12ab7c65",
   "metadata": {},
   "source": [
    "## Preprocessing"
   ]
  },
  {
   "cell_type": "markdown",
   "id": "b9247750",
   "metadata": {},
   "source": [
    "### Import package"
   ]
  },
  {
   "cell_type": "code",
   "execution_count": 1,
   "id": "b190f745",
   "metadata": {},
   "outputs": [],
   "source": [
    "import os\n",
    "import numpy as np\n",
    "import pandas as pd"
   ]
  },
  {
   "cell_type": "markdown",
   "id": "97093866",
   "metadata": {},
   "source": [
    "### Define function"
   ]
  },
  {
   "cell_type": "code",
   "execution_count": 2,
   "id": "44712a21",
   "metadata": {},
   "outputs": [],
   "source": [
    "def add_gene_name(data):   \n",
    "    desp = data['Description'].values\n",
    "    gene = []\n",
    "    for s in desp:\n",
    "        \n",
    "        g = s[s.find('GN=') + 3:].split(' ')[0]\n",
    "        gene.append(g)\n",
    "    data['Gene Symbol'] = gene\n",
    "    return data\n",
    "\n",
    "\n",
    "def preprocess_single(data):\n",
    "    columns = ['Accession',\n",
    "               '# PSMs',\n",
    "               'Gene Symbol']\n",
    "    val_cols = [s for s in data.columns if 'Abundances (Normalized):' in s]\n",
    "    val_cols = val_cols[:len(val_cols)-2]\n",
    "    columns += val_cols\n",
    "    new_data = data[columns]\n",
    "    new_columns = columns[:3] + ['Abundances_Pool_{}'.format(i) for i in range(9)]\n",
    "    new_data.columns = new_columns\n",
    "    return new_data\n",
    "    \n",
    "\n",
    "def combine_double(ptable_1, ptable_2): \n",
    "    # only for technical replicates\n",
    "    # not used in this work\n",
    "    \n",
    "    index = list(set(ptable_1['Accession']) | set(ptable_2['Accession']))\n",
    "    val_cols_1 = [s for s in ptable_1.columns if 'Abundances (Normalized):' in s]\n",
    "    val_cols_2 = [s for s in ptable_2.columns if 'Abundances (Normalized):' in s]\n",
    "\n",
    "    x1 = ptable_1[val_cols_1]\n",
    "    x2 = ptable_2[val_cols_2]\n",
    "    r1 = np.mean(x1.iloc[:,[-1,-2]], axis = 1)\n",
    "    r2 = np.mean(x2.iloc[:,[-1,-2]], axis = 1)\n",
    "    \n",
    "    for i in range(x1.shape[0]):\n",
    "        x1.iloc[i,:] /= r1[i]\n",
    "    for i in range(x2.shape[0]):\n",
    "        x2.iloc[i,:] /= r2[i]\n",
    "    \n",
    "    result = []\n",
    "    for ind in index:\n",
    "        w1 = np.where(ptable_1['Accession'] == ind)[0]\n",
    "        if len(w1) > 0:\n",
    "            w1 = w1[0]\n",
    "            gene = ptable_1['Gene Symbol'][w1]\n",
    "            psm1 = ptable_1['# PSMs'][w1]\n",
    "            if (psm1 <= 5) and (r1[w1] <= 500):\n",
    "                val1 = [np.nan] * 9\n",
    "            else:\n",
    "                val1 = list(x1.iloc[w1,:9])\n",
    "        else:\n",
    "            psm1 = 0\n",
    "            val1 = [np.nan] * 9\n",
    "        w2 = np.where(ptable_2['Accession'] == ind)[0]\n",
    "        if len(w2) > 0:\n",
    "            w2 = w2[0]\n",
    "            gene = ptable_2['Gene Symbol'][w2]\n",
    "            psm2 = ptable_2['# PSMs'][w2]\n",
    "            if (psm2 <= 5) and (r2[w2] <= 500):\n",
    "                val2 = [np.nan] * 9\n",
    "            else:\n",
    "                val2 = list(x2.iloc[w2,:9])\n",
    "        else:\n",
    "            psm2 = 0\n",
    "            val2 = [np.nan] * 9\n",
    "        psm = psm1 + psm2\n",
    "        val = np.array(val1 + val2)\n",
    "        val /= np.nanmax(val)\n",
    "        item = [ind, gene, psm] + list(val)\n",
    "        result.append(item)\n",
    "    result = pd.DataFrame(result)\n",
    "    result.columns = ['Accession', 'Gene Symbol', '# PSMs'] + ['Abundances_Pool_{}'.format(i) for i in range(len(val))]\n",
    "    return result"
   ]
  },
  {
   "cell_type": "markdown",
   "id": "6fe55c4e",
   "metadata": {},
   "source": [
    "### Run"
   ]
  },
  {
   "cell_type": "code",
   "execution_count": 3,
   "id": "a8d37654",
   "metadata": {},
   "outputs": [],
   "source": [
    "files = ['data/raw/{}'.format(f) for f in os.listdir('data/raw')]\n",
    "\n",
    "for f in files:\n",
    "    ptable = pd.read_excel(f)\n",
    "    ptable = add_gene_name(ptable)\n",
    "    new_ptable = preprocess_single(ptable)\n",
    "    f_new = f.replace('raw', 'preprocessed')\n",
    "    f_new = f_new.replace('xlsx', 'csv')\n",
    "    new_ptable.to_csv(f_new, index = False)"
   ]
  }
 ],
 "metadata": {
  "kernelspec": {
   "display_name": "Python 3 (ipykernel)",
   "language": "python",
   "name": "python3"
  },
  "language_info": {
   "codemirror_mode": {
    "name": "ipython",
    "version": 3
   },
   "file_extension": ".py",
   "mimetype": "text/x-python",
   "name": "python",
   "nbconvert_exporter": "python",
   "pygments_lexer": "ipython3",
   "version": "3.9.7"
  }
 },
 "nbformat": 4,
 "nbformat_minor": 5
}
